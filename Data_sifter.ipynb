{
 "cells": [
  {
   "cell_type": "code",
   "execution_count": 1,
   "metadata": {},
   "outputs": [],
   "source": [
    "import pandas as pd\n",
    "import numpy as np\n",
    "\n",
    "train = pd.read_csv('train.csv')\n",
    "test = pd.read_csv('test.csv')"
   ]
  },
  {
   "cell_type": "code",
   "execution_count": 2,
   "metadata": {},
   "outputs": [
    {
     "data": {
      "text/plain": [
       "(200000, 202)"
      ]
     },
     "execution_count": 2,
     "metadata": {},
     "output_type": "execute_result"
    }
   ],
   "source": [
    "train.shape"
   ]
  },
  {
   "cell_type": "code",
   "execution_count": 3,
   "metadata": {},
   "outputs": [
    {
     "data": {
      "text/plain": [
       "<matplotlib.axes._subplots.AxesSubplot at 0x1ab03c76a90>"
      ]
     },
     "execution_count": 3,
     "metadata": {},
     "output_type": "execute_result"
    }
   ],
   "source": [
    "import matplotlib as plt\n",
    "\n",
    "train['var_0'].hist(bins = 100)"
   ]
  },
  {
   "cell_type": "code",
   "execution_count": 264,
   "metadata": {},
   "outputs": [
    {
     "data": {
      "text/html": [
       "<div>\n",
       "<style scoped>\n",
       "    .dataframe tbody tr th:only-of-type {\n",
       "        vertical-align: middle;\n",
       "    }\n",
       "\n",
       "    .dataframe tbody tr th {\n",
       "        vertical-align: top;\n",
       "    }\n",
       "\n",
       "    .dataframe thead th {\n",
       "        text-align: right;\n",
       "    }\n",
       "</style>\n",
       "<table border=\"1\" class=\"dataframe\">\n",
       "  <thead>\n",
       "    <tr style=\"text-align: right;\">\n",
       "      <th></th>\n",
       "      <th>0</th>\n",
       "    </tr>\n",
       "  </thead>\n",
       "  <tbody>\n",
       "    <tr>\n",
       "      <th>0</th>\n",
       "      <td>0.8091</td>\n",
       "    </tr>\n",
       "    <tr>\n",
       "      <th>1</th>\n",
       "      <td>-0.3503</td>\n",
       "    </tr>\n",
       "    <tr>\n",
       "      <th>2</th>\n",
       "      <td>2.2608</td>\n",
       "    </tr>\n",
       "    <tr>\n",
       "      <th>3</th>\n",
       "      <td>-0.8718</td>\n",
       "    </tr>\n",
       "    <tr>\n",
       "      <th>4</th>\n",
       "      <td>-0.8393</td>\n",
       "    </tr>\n",
       "  </tbody>\n",
       "</table>\n",
       "</div>"
      ],
      "text/plain": [
       "        0\n",
       "0  0.8091\n",
       "1 -0.3503\n",
       "2  2.2608\n",
       "3 -0.8718\n",
       "4 -0.8393"
      ]
     },
     "execution_count": 264,
     "metadata": {},
     "output_type": "execute_result"
    },
    {
     "data": {
      "image/png": "[encoded data removed]",
      "text/plain": [
       "<Figure size 432x288 with 1 Axes>"
      ]
     },
     "metadata": {
      "needs_background": "light"
     },
     "output_type": "display_data"
    }
   ],
   "source": [
    "rand_data = np.random.normal(size=200000)\n",
    "rand_df = pd.DataFrame(rand_data)\n",
    "rand_df = round(rand_df,4)\n",
    "rand_df.hist(bins = 200)\n",
    "rand_df.head()"
   ]
  },
  {
   "cell_type": "code",
   "execution_count": 279,
   "metadata": {},
   "outputs": [
    {
     "name": "stdout",
     "output_type": "stream",
     "text": [
      "Mean:  2.1\n",
      "Upper 4 std above mean:  7.3\n",
      "Min:  0.4084     Max:  20.315     Range:  19.9066\n",
      "Total different unique values:  94672     % of Total:  47.336\n",
      "    Occurances  Counts          %      cumsum\n",
      "0            1   40355  42.626120   42.626120\n",
      "1            2   25627  27.069250   69.695369\n",
      "2            3   15220  16.076559   85.771928\n",
      "3            4    7791   8.229466   94.001394\n",
      "4            5    3544   3.743451   97.744845\n",
      "5            6    1397   1.475621   99.220466\n",
      "6            7     526   0.555603   99.776069\n",
      "7            8     145   0.153160   99.929229\n",
      "8            9      50   0.052814   99.982043\n",
      "9           10      14   0.014788   99.996831\n",
      "10          11       3   0.003169  100.000000\n"
     ]
    }
   ],
   "source": [
    "\n",
    "#col = rand_df[0]\n",
    "col = train['var_0']\n",
    "\n",
    "\n",
    "num_list = col.value_counts()\n",
    "list_summary = num_list.describe()\n",
    "ul3 = num_list.std()*4 + num_list.mean()\n",
    "print('Mean: ',round(num_list.mean(),1))\n",
    "print('Upper 4 std above mean: ',round(ul3,1))\n",
    "\n",
    "df = num_list.value_counts()\n",
    "\n",
    "col_min = col.values.min()\n",
    "col_max = col.values.max()\n",
    "col_range = col_max - col_min\n",
    "\n",
    "print('Min: ',col_min,'    Max: ', col_max,'    Range: ', col_range)\n",
    "\n",
    "df = df.rename_axis('Occurances').reset_index(name='Counts')\n",
    "\n",
    "count_sum = df['Counts'].sum()\n",
    "row_count = len(train.index)\n",
    "print('Total different unique values: ',count_sum, '    % of Total: ',count_sum/row_count*100)\n",
    "df['%'] = df['Counts']/count_sum*100\n",
    "df['cumsum'] =df['%'].cumsum()\n",
    "print(df)\n"
   ]
  },
  {
   "cell_type": "code",
   "execution_count": 281,
   "metadata": {},
   "outputs": [
    {
     "name": "stdout",
     "output_type": "stream",
     "text": [
      "     Var  Range  Unique % of Total  Mean Count  Std Count  4Std UL  \\\n",
      "0  var_0  19.91              47.34         2.1        1.3     7.34   \n",
      "1  var_1  25.42              54.47         1.8        1.1     6.16   \n",
      "2  var_2  17.24              43.28         2.3        1.5     8.11   \n",
      "3  var_3  13.23              37.30         2.7        1.7     9.33   \n",
      "4  var_4  11.60              31.76         3.1        2.0    11.06   \n",
      "\n",
      "   cumsum count 1  cumsum count 2  cutoff  data points to drop  \n",
      "0           42.63           69.70     7.0                526.0  \n",
      "1           50.20           78.36     6.0                664.0  \n",
      "2           37.78           64.16     8.0                272.0  \n",
      "3           30.14           54.40     9.0                201.0  \n",
      "4           24.45           45.34    11.0                 70.0  \n"
     ]
    }
   ],
   "source": [
    "df2 = pd.DataFrame({'Var': [], 'Range': [], 'Unique % of Total': [],\n",
    "                    'Mean Count': [],'Std Count': [],'4Std UL':[],\n",
    "                    'cumsum count 1': [],\n",
    "                   'cumsum count 2': [],\n",
    "                   'cutoff': [],\n",
    "                   'data points to drop': []})\n",
    "for i in range(10):\n",
    "    v = 'var_'\n",
    "    var_x = v+str(i)\n",
    "    col =train[var_x]\n",
    "    col_min = col.values.min()\n",
    "    col_max = col.values.max()\n",
    "    col_range = col_max - col_min\n",
    "    \n",
    "    num_list = col.value_counts()\n",
    "    list_summary = num_list.describe()\n",
    "    ul3 = num_list.std()*3 + num_list.mean()\n",
    "    df = num_list.value_counts()\n",
    "    df = df.rename_axis('Occurances').reset_index(name='Counts')\n",
    "    count_sum = df['Counts'].sum()\n",
    "    row_count = len(train.index)\n",
    "    df['%'] = df['Counts']/count_sum\n",
    "    df['cumsum'] =df['%'].cumsum()\n",
    "\n",
    "    cutoff = round(num_list.mean()+4*num_list.std(),0)\n",
    "    \n",
    "    df2 = df2.append({'Var': var_x, \n",
    "                      'Range': round(col_range,2), \n",
    "                      'Unique % of Total': round(count_sum/row_count*100,2),\n",
    "                      'Mean Count': round(num_list.mean(),1),\n",
    "                      'Std Count': round(num_list.std(),1),\n",
    "                      '4Std UL': round(num_list.mean()+4*num_list.std(),2),\n",
    "                     'cumsum count 1': round(df.iloc[0,3]*100,2),\n",
    "                     'cumsum count 2': round(df.iloc[1,3]*100,2),\n",
    "                      'cutoff': cutoff,\n",
    "                     'data points to drop': df.iloc[int(cutoff)-1,1] },\n",
    "                     ignore_index=True)\n",
    "    \n",
    "print(df2.head())"
   ]
  },
  {
   "cell_type": "code",
   "execution_count": 203,
   "metadata": {},
   "outputs": [
    {
     "data": {
      "image/png": "[encoded data removed]",
      "text/plain": [
       "<Figure size 432x288 with 1 Axes>"
      ]
     },
     "metadata": {
      "needs_background": "light"
     },
     "output_type": "display_data"
    }
   ],
   "source": [
    "import matplotlib.pyplot as plt\n",
    "plt.scatter(df2['Range'],df2['cumsum count 2'],c=\"dodgerblue\")\n",
    "plt.title('Scatter plot of Value Range vs Unique % of Total')\n",
    "plt.xlabel('Range')\n",
    "plt.ylabel('cumsum count 2')\n",
    "plt.show()"
   ]
  },
  {
   "cell_type": "code",
   "execution_count": 208,
   "metadata": {},
   "outputs": [
    {
     "data": {
      "image/png": "[encoded data removed]",
      "text/plain": [
       "<Figure size 288x288 with 1 Axes>"
      ]
     },
     "metadata": {
      "needs_background": "light"
     },
     "output_type": "display_data"
    }
   ],
   "source": [
    "df2.corr()\n",
    "plt.matshow(df2.corr())\n",
    "plt.show()"
   ]
  }
 ],
 "metadata": {
  "kernelspec": {
   "display_name": "Python 3",
   "language": "python",
   "name": "python3"
  },
  "language_info": {
   "codemirror_mode": {
    "name": "ipython",
    "version": 3
   },
   "file_extension": ".py",
   "mimetype": "text/x-python",
   "name": "python",
   "nbconvert_exporter": "python",
   "pygments_lexer": "ipython3",
   "version": "3.7.1"
  }
 },
 "nbformat": 4,
 "nbformat_minor": 2
}
