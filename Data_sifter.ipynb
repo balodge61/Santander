{
 "cells": [
  {
   "cell_type": "code",
   "execution_count": 1,
   "metadata": {},
   "outputs": [],
   "source": [
    "import pandas as pd\n",
    "import numpy as np\n",
    "\n",
    "train = pd.read_csv('train.csv')\n",
    "test = pd.read_csv('test.csv')"
   ]
  },
  {
   "cell_type": "code",
   "execution_count": 2,
   "metadata": {},
   "outputs": [
    {
     "data": {
      "text/plain": [
       "(200000, 202)"
      ]
     },
     "execution_count": 2,
     "metadata": {},
     "output_type": "execute_result"
    }
   ],
   "source": [
    "train.shape"
   ]
  },
  {
   "cell_type": "code",
   "execution_count": 3,
   "metadata": {},
   "outputs": [
    {
     "data": {
      "text/plain": [
       "<matplotlib.axes._subplots.AxesSubplot at 0x1ab03c76a90>"
      ]
     },
     "execution_count": 3,
     "metadata": {},
     "output_type": "execute_result"
    }
   ],
   "source": [
    "import matplotlib as plt\n",
    "\n",
    "train['var_0'].hist(bins = 100)"
   ]
  },
  {
   "cell_type": "code",
   "execution_count": 129,
   "metadata": {},
   "outputs": [
    {
     "name": "stdout",
     "output_type": "stream",
     "text": [
      "Mean:  2.1\n",
      "Upper 3 std above mean:  6.0\n",
      "Min:  0.4084     Max:  20.315     Range:  19.9066\n",
      "Total different unique values:  94672     % of Total:  0.47336\n",
      "    Occurances  Counts         %    cumsum\n",
      "0            1   40355  0.426261  0.426261\n",
      "1            2   25627  0.270692  0.696954\n",
      "2            3   15220  0.160766  0.857719\n",
      "3            4    7791  0.082295  0.940014\n",
      "4            5    3544  0.037435  0.977448\n",
      "5            6    1397  0.014756  0.992205\n",
      "6            7     526  0.005556  0.997761\n",
      "7            8     145  0.001532  0.999292\n",
      "8            9      50  0.000528  0.999820\n",
      "9           10      14  0.000148  0.999968\n",
      "10          11       3  0.000032  1.000000\n"
     ]
    }
   ],
   "source": [
    "\n",
    "col = train['var_0']\n",
    "\n",
    "num_list = col.value_counts()\n",
    "list_summary = num_list.describe()\n",
    "ul3 = num_list.std()*3 + num_list.mean()\n",
    "print('Mean: ',round(num_list.mean(),1))\n",
    "print('Upper 3 std above mean: ',round(ul3,1))\n",
    "\n",
    "df = num_list.value_counts()\n",
    "\n",
    "col_min = col.values.min()\n",
    "col_max = col.values.max()\n",
    "col_range = col_max - col_min\n",
    "\n",
    "print('Min: ',col_min,'    Max: ', col_max,'    Range: ', col_range)\n",
    "\n",
    "df = df.rename_axis('Occurances').reset_index(name='Counts')\n",
    "\n",
    "count_sum = df['Counts'].sum()\n",
    "row_count = len(train.index)\n",
    "print('Total different unique values: ',count_sum, '    % of Total: ',count_sum/row_count)\n",
    "df['%'] = df['Counts']/count_sum\n",
    "df['cumsum'] =df['%'].cumsum()\n",
    "print(df)\n"
   ]
  },
  {
   "cell_type": "code",
   "execution_count": 144,
   "metadata": {},
   "outputs": [
    {
     "name": "stdout",
     "output_type": "stream",
     "text": [
      "     Var    Range  Unique % of Total  cumsum count 1\n",
      "0  var_0  19.9066           0.473360        0.696954\n",
      "1  var_1  25.4202           0.544660        0.783599\n",
      "2  var_2  17.2359           0.432775        0.641580\n",
      "3  var_3  13.2285           0.372985        0.544003\n",
      "4  var_4  11.5966           0.317575        0.453389\n"
     ]
    }
   ],
   "source": [
    "df2 = pd.DataFrame({'Var': [], 'Range': [], 'Unique % of Total': [],\n",
    "                    'Mean Count': [],'Std Count': [],'cumsum count 1': []})\n",
    "for i in range(5):\n",
    "    v = 'var_'\n",
    "    var_x = v+str(i)\n",
    "    col =train[var_x]\n",
    "    col_min = col.values.min()\n",
    "    col_max = col.values.max()\n",
    "    col_range = col_max - col_min\n",
    "    \n",
    "    num_list = col.value_counts()\n",
    "    list_summary = num_list.describe()\n",
    "    ul3 = num_list.std()*3 + num_list.mean()\n",
    "    df = num_list.value_counts()\n",
    "    df = df.rename_axis('Occurances').reset_index(name='Counts')\n",
    "    count_sum = df['Counts'].sum()\n",
    "    row_count = len(train.index)\n",
    "    df['%'] = df['Counts']/count_sum\n",
    "    df['cumsum'] =df['%'].cumsum()\n",
    "\n",
    "    \n",
    "    df2 = df2.append({'Var': var_x, 'Range': col_range, \n",
    "                      'Unique % of Total': count_sum/row_count,\n",
    "                      'Mean Count': \n",
    "                     'cumsum count 1': df.iloc[1,3]},\n",
    "                     ignore_index=True)\n",
    "    \n",
    "print(df2)"
   ]
  },
  {
   "cell_type": "code",
   "execution_count": 41,
   "metadata": {},
   "outputs": [
    {
     "data": {
      "image/png": "[encoded data removed]",
      "text/plain": [
       "<Figure size 432x288 with 1 Axes>"
      ]
     },
     "metadata": {
      "needs_background": "light"
     },
     "output_type": "display_data"
    }
   ],
   "source": [
    "import matplotlib.pyplot as plt\n",
    "plt.scatter(df2['Range'],df2['Unique % of Total'])\n",
    "plt.title('Scatter plot of Value Range vs Unique % of Total')\n",
    "plt.xlabel('Range')\n",
    "plt.ylabel('Unique % of Total')\n",
    "plt.show()"
   ]
  }
 ],
 "metadata": {
  "kernelspec": {
   "display_name": "Python 3",
   "language": "python",
   "name": "python3"
  },
  "language_info": {
   "codemirror_mode": {
    "name": "ipython",
    "version": 3
   },
   "file_extension": ".py",
   "mimetype": "text/x-python",
   "name": "python",
   "nbconvert_exporter": "python",
   "pygments_lexer": "ipython3",
   "version": "3.7.1"
  }
 },
 "nbformat": 4,
 "nbformat_minor": 2
}
