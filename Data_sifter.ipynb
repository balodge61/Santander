{
 "cells": [
  {
   "cell_type": "code",
   "execution_count": 1,
   "metadata": {},
   "outputs": [],
   "source": [
    "import pandas as pd\n",
    "import numpy as np\n",
    "\n",
    "train = pd.read_csv('train.csv')\n",
    "test = pd.read_csv('test.csv')"
   ]
  },
  {
   "cell_type": "code",
   "execution_count": 9,
   "metadata": {},
   "outputs": [
    {
     "data": {
      "text/plain": [
       "(200000, 202)"
      ]
     },
     "execution_count": 9,
     "metadata": {},
     "output_type": "execute_result"
    }
   ],
   "source": [
    "train.shape"
   ]
  },
  {
   "cell_type": "code",
   "execution_count": 36,
   "metadata": {},
   "outputs": [
    {
     "data": {
      "text/plain": [
       "<matplotlib.axes._subplots.AxesSubplot at 0x22a42859748>"
      ]
     },
     "execution_count": 36,
     "metadata": {},
     "output_type": "execute_result"
    },
    {
     "data": {
      "image/png": "[encoded data removed]",
      "text/plain": [
       "<matplotlib.figure.Figure at 0x22a42903320>"
      ]
     },
     "metadata": {},
     "output_type": "display_data"
    }
   ],
   "source": [
    "import matplotlib as plt\n",
    "\n",
    "train['var_0'].hist(bins = 100)"
   ]
  },
  {
   "cell_type": "code",
   "execution_count": 93,
   "metadata": {},
   "outputs": [
    {
     "name": "stdout",
     "output_type": "stream",
     "text": [
      "Mean:  1.3676429357823259\n",
      "Upper 3 std above mean:  3.3502057999091335\n",
      "146237\n",
      "   Occurances  Counts         %    cumsum\n",
      "0           1  104560  0.715004  0.715004\n",
      "1           2   31956  0.218522  0.933526\n",
      "2           3    7761  0.053071  0.986597\n",
      "3           4    1621  0.011085  0.997682\n",
      "4           5     284  0.001942  0.999624\n",
      "5           6      45  0.000308  0.999932\n",
      "6           7       9  0.000062  0.999993\n",
      "7           8       1  0.000007  1.000000\n"
     ]
    }
   ],
   "source": [
    "\n",
    "num_list = train['var_102'].value_counts()\n",
    "list_summary = list.describe()\n",
    "ul3 = num_list.std()*3 + num_list.mean()\n",
    "print('Mean: ',num_list.mean())\n",
    "print('Upper 3 std above mean: ',ul3)\n",
    "\n",
    "df = num_list.value_counts()\n",
    "\n",
    "df = df.rename_axis('Occurances').reset_index(name='Counts')\n",
    "\n",
    "count_sum = df['Counts'].sum()\n",
    "\n",
    "print(count_sum)\n",
    "df['%'] = df['Counts']/count_sum\n",
    "df['cumsum'] =df['%'].cumsum()\n",
    "x = \n",
    "print(df)"
   ]
  }
 ],
 "metadata": {
  "kernelspec": {
   "display_name": "Python 3",
   "language": "python",
   "name": "python3"
  },
  "language_info": {
   "codemirror_mode": {
    "name": "ipython",
    "version": 3
   },
   "file_extension": ".py",
   "mimetype": "text/x-python",
   "name": "python",
   "nbconvert_exporter": "python",
   "pygments_lexer": "ipython3",
   "version": "3.6.4"
  }
 },
 "nbformat": 4,
 "nbformat_minor": 2
}
