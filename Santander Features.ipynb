{
 "cells": [
  {
   "cell_type": "code",
   "execution_count": 1,
   "metadata": {},
   "outputs": [
    {
     "name": "stdout",
     "output_type": "stream",
     "text": [
      "--- 30.8 seconds ---\n"
     ]
    }
   ],
   "source": [
    "import pandas as pd\n",
    "import numpy as np\n",
    "import warnings\n",
    "warnings.filterwarnings(\"ignore\")\n",
    "import random\n",
    "from sklearn import  metrics\n",
    "from sklearn.metrics import accuracy_score\n",
    "from sklearn.model_selection import  cross_val_score\n",
    "from sklearn.metrics import roc_curve, auc, roc_auc_score\n",
    "from sklearn.metrics import confusion_matrix\n",
    "from sklearn.model_selection import train_test_split\n",
    "from sklearn.linear_model import (LinearRegression, Ridge, Lasso, RandomizedLasso, LogisticRegression)\n",
    "from sklearn.preprocessing import MinMaxScaler\n",
    "from sklearn.preprocessing import StandardScaler\n",
    "from sklearn.feature_selection import RFE\n",
    "import time\n",
    "\n",
    "start_time = time.time()\n",
    "train_df = pd.read_csv('shuffled_half.csv')\n",
    "test_df = pd.read_csv('test.csv',)\n",
    "submission_df = pd.read_csv('sample_submission.csv')\n",
    "\n",
    "print(\"--- %s seconds ---\" % round((time.time() - start_time),1))"
   ]
  },
  {
   "cell_type": "code",
   "execution_count": 2,
   "metadata": {},
   "outputs": [],
   "source": [
    "import seaborn as sns\n",
    "%matplotlib inline\n",
    "from scipy.stats import norm\n",
    "import matplotlib.pyplot as plt\n",
    "\n",
    "#train_df.target.value_counts().plot(kind=\"bar\")\n",
    "\n",
    "for i in range(0,199):\n",
    "\n",
    "    hist = train_df['var_'+str(i)]\n",
    "    #sns.set_style('darkgrid')\n",
    "    #plot = sns.distplot(hist, color = 'orange')\n",
    "    #mean,std=norm.fit(hist)\n",
    "    #xmin, xmax = plt.xlim()\n",
    "    #x = np.linspace(xmin, xmax, 100)\n",
    "    #y = norm.pdf(x, mean, std)\n",
    "    #plt.plot(x, y)\n",
    "\n",
    "\n",
    "    train_df.describe()\n",
    "\n",
    "    x_col = hist\n",
    "    m = x_col.mean()\n",
    "    z = x_col.std()\n",
    "\n",
    "    #print(round(m,3),round(z,3))\n",
    "\n",
    "    bins = np.array([m-4*z,m-3*z,m-2*z,m-z,m\n",
    "                 ,z+m,z*2+m,z*3+m,z*4+m])\n",
    "    digitized = np.digitize(x_col, bins)\n",
    "    train_df['digitized'+ str(i)] = digitized\n",
    "\n",
    "    #print(bins)\n",
    "\n",
    "    cor = train_df.corr()\n",
    "    cor.to_csv('digitized.csv')"
   ]
  },
  {
   "cell_type": "code",
   "execution_count": 3,
   "metadata": {},
   "outputs": [],
   "source": [
    "#### Lets check the data to see how normal each column is ####\n",
    "#from scipy.stats import shapiro\n",
    "#from scipy.stats import normaltest\n",
    "\n",
    "#cols = train_df.columns.tolist()\n",
    "\n",
    "#for i in range (0,199):\n",
    "#    stat, p = normaltest(train_df['var_' + str(i)])\n",
    "#    alpha = .05\n",
    "#    if p > alpha:\n",
    "#        print('var_',i,'looks gaussian ','stat: ',\n",
    "#              round(stat,3),'p value: ',p)\n",
    "#    else:\n",
    "#        print('var_',i,'DOES NOT look gaussian ','stat: ',\n",
    "#              round(stat,3),'p value: ',p)"
   ]
  },
  {
   "cell_type": "code",
   "execution_count": 4,
   "metadata": {},
   "outputs": [],
   "source": [
    "#shuffled = train_df.sample(frac=1)\n",
    "#shuffled.to_csv('shuffled.csv')"
   ]
  },
  {
   "cell_type": "code",
   "execution_count": 5,
   "metadata": {},
   "outputs": [
    {
     "name": "stderr",
     "output_type": "stream",
     "text": [
      "C:\\Users\\cbi7088\\AppData\\Local\\Continuum\\anaconda3\\lib\\site-packages\\sklearn\\preprocessing\\data.py:625: DataConversionWarning: Data with input dtype int64, float64 were all converted to float64 by StandardScaler.\n",
      "  return self.partial_fit(X, y)\n",
      "C:\\Users\\cbi7088\\AppData\\Local\\Continuum\\anaconda3\\lib\\site-packages\\sklearn\\base.py:462: DataConversionWarning: Data with input dtype int64, float64 were all converted to float64 by StandardScaler.\n",
      "  return self.fit(X, **fit_params).transform(X)\n"
     ]
    },
    {
     "name": "stdout",
     "output_type": "stream",
     "text": [
      "--- 3.4 seconds ---\n"
     ]
    }
   ],
   "source": [
    "#### Scale the Train and Test Data ####\n",
    "start_time = time.time()\n",
    "target_col = [\"target\"]\n",
    "id_dataset = [\"ID_code\"]\n",
    "#numerical columns\n",
    "num_col_train   = [x for x in train_df.columns if x not in target_col + id_dataset]\n",
    "num_col_test   = [x for x in test_df.columns if x not in target_col + id_dataset]\n",
    "\n",
    "#Scaling Numerical columns\n",
    "std = StandardScaler()\n",
    "scaled = std.fit_transform(train_df[num_col_train])\n",
    "scaled = pd.DataFrame(scaled,columns=num_col_train)\n",
    "\n",
    "#dropping original values merging scaled values for numerical columns\n",
    "df_data_og = train_df.copy()\n",
    "train = train_df.drop(columns = num_col_train,axis = 1)\n",
    "train = train.merge(scaled,left_index=True,right_index=True,how = \"left\")\n",
    "train = train.drop(columns = ['ID_code'],axis = 1)\n",
    "\n",
    "scaled = std.fit_transform(test_df[num_col_test])\n",
    "scaled = pd.DataFrame(scaled,columns=num_col_test)\n",
    "\n",
    "#dropping original values merging scaled values for numerical columns\n",
    "df_test_og = test_df.copy()\n",
    "test = test_df.drop(columns = num_col_test,axis = 1)\n",
    "test = test.merge(scaled,left_index=True,right_index=True,how = \"left\")\n",
    "test = test.drop(columns = ['ID_code'],axis = 1)\n",
    "\n",
    "print(\"--- %s seconds ---\" % round((time.time() - start_time),1))"
   ]
  },
  {
   "cell_type": "code",
   "execution_count": 9,
   "metadata": {},
   "outputs": [
    {
     "data": {
      "text/plain": [
       "[<matplotlib.lines.Line2D at 0x16913c0f0b8>]"
      ]
     },
     "execution_count": 9,
     "metadata": {},
     "output_type": "execute_result"
    },
    {
     "data": {
      "image/png": "[encoded data removed]",
      "text/plain": [
       "<Figure size 432x288 with 1 Axes>"
      ]
     },
     "metadata": {},
     "output_type": "display_data"
    }
   ],
   "source": [
    "import seaborn as sns\n",
    "%matplotlib inline\n",
    "from scipy.stats import norm\n",
    "import matplotlib.pyplot as plt\n",
    "\n",
    "x = train['var_175']\n",
    "\n",
    "hist = x\n",
    "sns.set_style('darkgrid')\n",
    "plot = sns.distplot(hist, color = 'orange')\n",
    "mean,std=norm.fit(hist)\n",
    "xmin, xmax = plt.xlim()\n",
    "x = np.linspace(xmin, xmax, 100)\n",
    "y = norm.pdf(x, mean, std)\n",
    "plt.plot(x, y)"
   ]
  },
  {
   "cell_type": "code",
   "execution_count": 7,
   "metadata": {},
   "outputs": [
    {
     "name": "stdout",
     "output_type": "stream",
     "text": [
      "Original dataframe shape:  (100000, 401)\n",
      "New dataframe shape::  (100000, 8421)\n",
      "--- 272.8 seconds ---\n"
     ]
    }
   ],
   "source": [
    "#### Lets create features ####\n",
    "start_time = time.time()\n",
    "\n",
    "print('Original dataframe shape: ',train.shape)\n",
    "\n",
    "column = train.columns.tolist()\n",
    "#print(column)\n",
    "test_list_0 = ['var_0','var_1','var_2','var_3','var_4','var_5','var_6','var_7','var_8','var_9',\n",
    "              'var_10','var_11','var_12','var_13','var_14','var_15','var_16','var_17','var_18','var_19']\n",
    "\n",
    "test_list_1 = ['var_20','var_21','var_22','var_23','var_24','var_25','var_26','var_27','var_28','var_29',\n",
    "              'var_30','var_31','var_32','var_33','var_34','var_35','var_36','var_37','var_38','var_39']\n",
    "\n",
    "test_list_2 = ['var_40','var_41','var_42','var_43','var_44','var_45','var_46','var_47','var_48','var_49',\n",
    "              'var_50','var_51','var_52','var_53','var_54','var_55','var_56','var_57','var_58','var_59']\n",
    "\n",
    "test_list_3 = ['var_60','var_61','var_62','var_63','var_64','var_65','var_66','var_67','var_68','var_69',\n",
    "              'var_70','var_71','var_72','var_73','var_74','var_75','var_76','var_77','var_78','var_79']\n",
    "\n",
    "test_list_4 = ['var_80','var_81','var_82','var_83','var_84','var_85','var_86','var_87','var_88','var_89',\n",
    "              'var_90','var_91','var_92','var_93','var_94','var_95','var_96','var_97','var_98','var_99']\n",
    "\n",
    "test_list_5 = ['var_100','var_101','var_102','var_103','var_104','var_105','var_106','var_107','var_108','var_109',\n",
    "              'var_110','var_111','var_112','var_113','var_114','var_115','var_116','var_117','var_118','var_119']\n",
    "\n",
    "test_list_6 = ['var_120','var_121','var_122','var_123','var_124','var_125','var_126','var_127','var_128','var_129',\n",
    "              'var_130','var_131','var_132','var_133','var_134','var_135','var_136','var_137','var_138','var_139']\n",
    "\n",
    "test_list_7 = ['var_140','var_141','var_142','var_143','var_144','var_145','var_146','var_147','var_148','var_149',\n",
    "              'var_150','var_151','var_152','var_153','var_154','var_155','var_156','var_157','var_158','var_159']\n",
    "\n",
    "test_list_8 = ['var_160','var_161','var_162','var_163','var_164','var_165','var_166','var_167','var_168','var_169',\n",
    "              'var_170','var_171','var_172','var_173','var_174','var_175','var_176','var_177','var_178','var_179']\n",
    "\n",
    "test_list_9 = ['var_180','var_181','var_182','var_183','var_184','var_185','var_186','var_187','var_188','var_189',\n",
    "               'var_190','var_191','var_192','var_193','var_194','var_195','var_196','var_197','var_198','var_199']\n",
    "\n",
    "test_list_10 = ['var_185','var_27','var_30','var_17','var_38','var_41','var_126','var_103','var_10','var_100',\n",
    "               'var_117','var_7','var_96','var_136','var_158','var_98','var_39','var_161','var_124','var_29']\n",
    "\n",
    "no_target_list = train.drop(columns='target',axis = 1)\n",
    "no_target_list = no_target_list.columns.tolist()\n",
    "\n",
    "for j in test_list_10:\n",
    "    for i in column:\n",
    "        train[j + i] = train[j] + train[i]\n",
    "\n",
    "print('New dataframe shape:: ', train.shape)\n",
    "#print(train.describe())\n",
    "#describe = train.describe()\n",
    "\n",
    "print(\"--- %s seconds ---\" % round((time.time() - start_time),1))"
   ]
  },
  {
   "cell_type": "code",
   "execution_count": 8,
   "metadata": {},
   "outputs": [
    {
     "name": "stdout",
     "output_type": "stream",
     "text": [
      "--- 31.6 seconds ---\n"
     ]
    }
   ],
   "source": [
    "#### Check correlation and drop ####\n",
    "start_time = time.time()\n",
    "\n",
    "cor_t = pd.DataFrame(train).apply(lambda x: x.corr(train.target)).abs().sort_values(ascending=False)\n",
    "#print(cor_t.head(1000))\n",
    "cor_t.to_csv('corr_features.csv')\n",
    "print(\"--- %s seconds ---\" % round((time.time() - start_time),1))"
   ]
  }
 ],
 "metadata": {
  "kernelspec": {
   "display_name": "Python 3",
   "language": "python",
   "name": "python3"
  },
  "language_info": {
   "codemirror_mode": {
    "name": "ipython",
    "version": 3
   },
   "file_extension": ".py",
   "mimetype": "text/x-python",
   "name": "python",
   "nbconvert_exporter": "python",
   "pygments_lexer": "ipython3",
   "version": "3.7.1"
  }
 },
 "nbformat": 4,
 "nbformat_minor": 2
}
